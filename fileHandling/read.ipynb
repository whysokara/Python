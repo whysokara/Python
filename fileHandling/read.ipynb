{
 "cells": [
  {
   "cell_type": "code",
   "execution_count": 1,
   "metadata": {},
   "outputs": [
    {
     "name": "stdout",
     "output_type": "stream",
     "text": [
      "Hi\n",
      "this \n",
      "is\n",
      "kara\n",
      "Hi\n",
      "this \n",
      "is\n",
      "kara\n",
      "\n"
     ]
    }
   ],
   "source": [
    "## reading files\n",
    "\n",
    "f = open('lines.txt', 'r')\n",
    "text = f.read()\n",
    "print(text)\n",
    "f.close()"
   ]
  },
  {
   "cell_type": "code",
   "execution_count": 2,
   "metadata": {},
   "outputs": [
    {
     "name": "stdout",
     "output_type": "stream",
     "text": [
      "Hi\n",
      "this \n",
      "i\n"
     ]
    }
   ],
   "source": [
    " # read first n characters\n",
    "f = open('lines.txt', 'r')\n",
    "text = f.read(10)\n",
    "print(text)\n",
    "f.close()"
   ]
  },
  {
   "cell_type": "code",
   "execution_count": 5,
   "metadata": {},
   "outputs": [
    {
     "name": "stdout",
     "output_type": "stream",
     "text": [
      "Hi\n",
      "this \n"
     ]
    }
   ],
   "source": [
    "# printing line by line\n",
    "f = open('lines.txt', 'r')\n",
    "print(f.readline(), end='')\n",
    "print(f.readline(), end='') # end to avoid line spacing\n",
    "f.close()\n"
   ]
  },
  {
   "cell_type": "code",
   "execution_count": 6,
   "metadata": {},
   "outputs": [
    {
     "name": "stdout",
     "output_type": "stream",
     "text": [
      "Hi\n",
      "this \n",
      "is\n",
      "kara\n",
      "Hi\n",
      "this \n",
      "is\n",
      "kara\n"
     ]
    }
   ],
   "source": [
    "# when you want to use readline but not sure how many lines are there\n",
    "\n",
    "f = open('lines.txt', 'r')\n",
    "\n",
    "while True:\n",
    "    data = f.readline()\n",
    "\n",
    "    if data == '':\n",
    "        break\n",
    "    else:\n",
    "        print(data, end='')\n",
    "\n",
    "f.close()"
   ]
  },
  {
   "cell_type": "code",
   "execution_count": null,
   "metadata": {},
   "outputs": [],
   "source": []
  }
 ],
 "metadata": {
  "kernelspec": {
   "display_name": "venv",
   "language": "python",
   "name": "python3"
  },
  "language_info": {
   "codemirror_mode": {
    "name": "ipython",
    "version": 3
   },
   "file_extension": ".py",
   "mimetype": "text/x-python",
   "name": "python",
   "nbconvert_exporter": "python",
   "pygments_lexer": "ipython3",
   "version": "3.12.8"
  }
 },
 "nbformat": 4,
 "nbformat_minor": 2
}
